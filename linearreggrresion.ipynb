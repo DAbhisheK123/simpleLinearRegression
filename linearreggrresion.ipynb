{
 "cells": [
  {
   "cell_type": "code",
   "execution_count": 80,
   "metadata": {},
   "outputs": [],
   "source": [
    "\n",
    "class AbhiLR:\n",
    "\n",
    "    def __init__(self):\n",
    "        self.m=None\n",
    "        self.b=None\n",
    "    def fit(self,X_train,y_train):\n",
    "        numerator=0\n",
    "        denominator=0\n",
    "        x_mean=X_train.mean()\n",
    "        y_mean=y_train.mean()\n",
    "        for i in range(X_train.shape[0]):\n",
    "            numerator=numerator+ (X_train[i]-x_mean)*(y_train[i]-y_mean)\n",
    "            denominator=denominator+(X_train[i]-x_mean)**2\n",
    "            \n",
    "        self.m=(numerator/denominator)\n",
    "        self.b=y_mean-self.m*x_mean\n",
    "    def predict(self,X_test):\n",
    "            \n",
    "        return (self.m*X_test+self.b)"
   ]
  }
 ],
 "metadata": {
  "kernelspec": {
   "display_name": "Python 3",
   "language": "python",
   "name": "python3"
  },
  "language_info": {
   "codemirror_mode": {
    "name": "ipython",
    "version": 3
   },
   "file_extension": ".py",
   "mimetype": "text/x-python",
   "name": "python",
   "nbconvert_exporter": "python",
   "pygments_lexer": "ipython3",
   "version": "3.10.6"
  },
  "orig_nbformat": 4,
  "vscode": {
   "interpreter": {
    "hash": "916dbcbb3f70747c44a77c7bcd40155683ae19c65e1c03b4aa3499c5328201f1"
   }
  }
 },
 "nbformat": 4,
 "nbformat_minor": 2
}
